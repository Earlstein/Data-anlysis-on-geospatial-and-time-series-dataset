{
 "cells": [
  {
   "cell_type": "markdown",
   "metadata": {},
   "source": [
    "# NYC Taxi Data\n",
    "#### In this document we will perform basic data cleaning and exploration techniques, covering geospatial and time series data, on the NYC_taxi datasets. The aim is to explore the dataset and make observations. The data used is from the NYC Taxi and Limousine Commission (TLC), which includes pickup time, geo-coordinates, number of passengers, and several other variables for 1.5 million trips between 2016-01-01 and 2016-06-30.  For the analysis we will only use the trining sample "
   ]
  },
  {
   "cell_type": "markdown",
   "metadata": {},
   "source": [
    "## Data description\n",
    "The data contains 11 features with 1458644 rows.\n",
    "\n",
    "* id - a unique identifier for each trip.\n",
    "* vendor_id - a code indicating the provider associated with the trip record.\n",
    "* pickup_datetime - date and time when the meter was engaged.\n",
    "* dropoff_datetime - date and time when the meter was disengaged.\n",
    "* passenger_count - the number of passengers in the vehicle (driver entered value).\n",
    "* pickup_longitude - the longitude where the meter was engaged.\n",
    "* pickup_latitude - the latitude where the meter was engaged.\n",
    "* dropoff_longitude - the longitude where the meter was disengaged.\n",
    "* dropoff_latitude - the latitude where the meter was disengaged/\n",
    "* store_and_fwd_flag - This flag indicates whether the trip record was held in vehicle memory before sending to the vendor because the vehicle did not have a connection to the server - Y=store and forward; N=not a store and forward trip/\n",
    "* trip_duration - duration of the trip in seconds."
   ]
  },
  {
   "cell_type": "code",
   "execution_count": 1,
   "metadata": {},
   "outputs": [],
   "source": [
    "# Imports used in the assigmnent\n",
    "from matplotlib import pyplot as plt\n",
    "import numpy as np\n",
    "import pandas as pd\n",
    "import csv\n",
    "import seaborn as sns"
   ]
  },
  {
   "cell_type": "code",
   "execution_count": 2,
   "metadata": {},
   "outputs": [
    {
     "data": {
      "text/html": [
       "<div>\n",
       "<style scoped>\n",
       "    .dataframe tbody tr th:only-of-type {\n",
       "        vertical-align: middle;\n",
       "    }\n",
       "\n",
       "    .dataframe tbody tr th {\n",
       "        vertical-align: top;\n",
       "    }\n",
       "\n",
       "    .dataframe thead th {\n",
       "        text-align: right;\n",
       "    }\n",
       "</style>\n",
       "<table border=\"1\" class=\"dataframe\">\n",
       "  <thead>\n",
       "    <tr style=\"text-align: right;\">\n",
       "      <th></th>\n",
       "      <th>id</th>\n",
       "      <th>vendor_id</th>\n",
       "      <th>pickup_datetime</th>\n",
       "      <th>dropoff_datetime</th>\n",
       "      <th>passenger_count</th>\n",
       "      <th>pickup_longitude</th>\n",
       "      <th>pickup_latitude</th>\n",
       "      <th>dropoff_longitude</th>\n",
       "      <th>dropoff_latitude</th>\n",
       "      <th>store_and_fwd_flag</th>\n",
       "      <th>trip_duration</th>\n",
       "    </tr>\n",
       "  </thead>\n",
       "  <tbody>\n",
       "    <tr>\n",
       "      <th>0</th>\n",
       "      <td>id2875421</td>\n",
       "      <td>2</td>\n",
       "      <td>2016-03-14 17:24:55</td>\n",
       "      <td>2016-03-14 17:32:30</td>\n",
       "      <td>1</td>\n",
       "      <td>-73.982155</td>\n",
       "      <td>40.767937</td>\n",
       "      <td>-73.964630</td>\n",
       "      <td>40.765602</td>\n",
       "      <td>N</td>\n",
       "      <td>455</td>\n",
       "    </tr>\n",
       "    <tr>\n",
       "      <th>1</th>\n",
       "      <td>id2377394</td>\n",
       "      <td>1</td>\n",
       "      <td>2016-06-12 00:43:35</td>\n",
       "      <td>2016-06-12 00:54:38</td>\n",
       "      <td>1</td>\n",
       "      <td>-73.980415</td>\n",
       "      <td>40.738564</td>\n",
       "      <td>-73.999481</td>\n",
       "      <td>40.731152</td>\n",
       "      <td>N</td>\n",
       "      <td>663</td>\n",
       "    </tr>\n",
       "    <tr>\n",
       "      <th>2</th>\n",
       "      <td>id3858529</td>\n",
       "      <td>2</td>\n",
       "      <td>2016-01-19 11:35:24</td>\n",
       "      <td>2016-01-19 12:10:48</td>\n",
       "      <td>1</td>\n",
       "      <td>-73.979027</td>\n",
       "      <td>40.763939</td>\n",
       "      <td>-74.005333</td>\n",
       "      <td>40.710087</td>\n",
       "      <td>N</td>\n",
       "      <td>2124</td>\n",
       "    </tr>\n",
       "    <tr>\n",
       "      <th>3</th>\n",
       "      <td>id3504673</td>\n",
       "      <td>2</td>\n",
       "      <td>2016-04-06 19:32:31</td>\n",
       "      <td>2016-04-06 19:39:40</td>\n",
       "      <td>1</td>\n",
       "      <td>-74.010040</td>\n",
       "      <td>40.719971</td>\n",
       "      <td>-74.012268</td>\n",
       "      <td>40.706718</td>\n",
       "      <td>N</td>\n",
       "      <td>429</td>\n",
       "    </tr>\n",
       "    <tr>\n",
       "      <th>4</th>\n",
       "      <td>id2181028</td>\n",
       "      <td>2</td>\n",
       "      <td>2016-03-26 13:30:55</td>\n",
       "      <td>2016-03-26 13:38:10</td>\n",
       "      <td>1</td>\n",
       "      <td>-73.973053</td>\n",
       "      <td>40.793209</td>\n",
       "      <td>-73.972923</td>\n",
       "      <td>40.782520</td>\n",
       "      <td>N</td>\n",
       "      <td>435</td>\n",
       "    </tr>\n",
       "  </tbody>\n",
       "</table>\n",
       "</div>"
      ],
      "text/plain": [
       "          id  vendor_id      pickup_datetime     dropoff_datetime  \\\n",
       "0  id2875421          2  2016-03-14 17:24:55  2016-03-14 17:32:30   \n",
       "1  id2377394          1  2016-06-12 00:43:35  2016-06-12 00:54:38   \n",
       "2  id3858529          2  2016-01-19 11:35:24  2016-01-19 12:10:48   \n",
       "3  id3504673          2  2016-04-06 19:32:31  2016-04-06 19:39:40   \n",
       "4  id2181028          2  2016-03-26 13:30:55  2016-03-26 13:38:10   \n",
       "\n",
       "   passenger_count  pickup_longitude  pickup_latitude  dropoff_longitude  \\\n",
       "0                1        -73.982155        40.767937         -73.964630   \n",
       "1                1        -73.980415        40.738564         -73.999481   \n",
       "2                1        -73.979027        40.763939         -74.005333   \n",
       "3                1        -74.010040        40.719971         -74.012268   \n",
       "4                1        -73.973053        40.793209         -73.972923   \n",
       "\n",
       "   dropoff_latitude store_and_fwd_flag  trip_duration  \n",
       "0         40.765602                  N            455  \n",
       "1         40.731152                  N            663  \n",
       "2         40.710087                  N           2124  \n",
       "3         40.706718                  N            429  \n",
       "4         40.782520                  N            435  "
      ]
     },
     "execution_count": 2,
     "metadata": {},
     "output_type": "execute_result"
    }
   ],
   "source": [
    "# lodaing the dataset\n",
    "input_data = pd.read_csv(\"nyc_taxis.csv\")\n",
    "input_data.head()"
   ]
  },
  {
   "cell_type": "markdown",
   "metadata": {},
   "source": [
    "## Data cleaning"
   ]
  },
  {
   "cell_type": "markdown",
   "metadata": {},
   "source": [
    "#### First we look if the are no null values in the data, \n",
    "#### We will also check the data representation of each column.\n",
    "#### We will also use diagrams to detect outliers.\n",
    "\n",
    "* The datatypes of each column makes sense so we will not change any datatype."
   ]
  },
  {
   "cell_type": "code",
   "execution_count": 3,
   "metadata": {},
   "outputs": [
    {
     "name": "stdout",
     "output_type": "stream",
     "text": [
      "<class 'pandas.core.frame.DataFrame'>\n",
      "RangeIndex: 1458644 entries, 0 to 1458643\n",
      "Data columns (total 11 columns):\n",
      " #   Column              Non-Null Count    Dtype  \n",
      "---  ------              --------------    -----  \n",
      " 0   id                  1458644 non-null  object \n",
      " 1   vendor_id           1458644 non-null  int64  \n",
      " 2   pickup_datetime     1458644 non-null  object \n",
      " 3   dropoff_datetime    1458644 non-null  object \n",
      " 4   passenger_count     1458644 non-null  int64  \n",
      " 5   pickup_longitude    1458644 non-null  float64\n",
      " 6   pickup_latitude     1458644 non-null  float64\n",
      " 7   dropoff_longitude   1458644 non-null  float64\n",
      " 8   dropoff_latitude    1458644 non-null  float64\n",
      " 9   store_and_fwd_flag  1458644 non-null  object \n",
      " 10  trip_duration       1458644 non-null  int64  \n",
      "dtypes: float64(4), int64(3), object(4)\n",
      "memory usage: 122.4+ MB\n"
     ]
    }
   ],
   "source": [
    "input_data.info()"
   ]
  },
  {
   "cell_type": "markdown",
   "metadata": {},
   "source": [
    "* As seen below the data does not contain null values."
   ]
  },
  {
   "cell_type": "code",
   "execution_count": 4,
   "metadata": {},
   "outputs": [
    {
     "data": {
      "text/plain": [
       "id                    0\n",
       "vendor_id             0\n",
       "pickup_datetime       0\n",
       "dropoff_datetime      0\n",
       "passenger_count       0\n",
       "pickup_longitude      0\n",
       "pickup_latitude       0\n",
       "dropoff_longitude     0\n",
       "dropoff_latitude      0\n",
       "store_and_fwd_flag    0\n",
       "trip_duration         0\n",
       "dtype: int64"
      ]
     },
     "execution_count": 4,
     "metadata": {},
     "output_type": "execute_result"
    }
   ],
   "source": [
    "input_data.isnull().sum()"
   ]
  },
  {
   "cell_type": "markdown",
   "metadata": {},
   "source": [
    "* We check the distinct values in the *id* column. \n",
    "* We see that each value is unique and since the column represents *a unique identifier for each trip* it is redundent we will delete it\n",
    "* We will use the built-in index column(1st column on the table) to represent unique trips. "
   ]
  },
  {
   "cell_type": "code",
   "execution_count": 5,
   "metadata": {},
   "outputs": [
    {
     "name": "stdout",
     "output_type": "stream",
     "text": [
      "Distinct values in id column:  1458644\n"
     ]
    }
   ],
   "source": [
    "print(\"Distinct values in id column: \",input_data.id.nunique())\n",
    "input_data.drop(['id'], axis='columns', inplace=True)"
   ]
  },
  {
   "cell_type": "markdown",
   "metadata": {},
   "source": [
    "* The *vendor_id* contains only 2 values, which means there are 2 providers for recording trips."
   ]
  },
  {
   "cell_type": "code",
   "execution_count": 6,
   "metadata": {},
   "outputs": [
    {
     "data": {
      "text/plain": [
       "array([2, 1], dtype=int64)"
      ]
     },
     "execution_count": 6,
     "metadata": {},
     "output_type": "execute_result"
    }
   ],
   "source": [
    "input_data.vendor_id.unique()"
   ]
  },
  {
   "cell_type": "markdown",
   "metadata": {},
   "source": [
    "* The dropoff_datetime and pickup_datetime are represented as expected"
   ]
  },
  {
   "cell_type": "code",
   "execution_count": 7,
   "metadata": {},
   "outputs": [
    {
     "data": {
      "text/html": [
       "<div>\n",
       "<style scoped>\n",
       "    .dataframe tbody tr th:only-of-type {\n",
       "        vertical-align: middle;\n",
       "    }\n",
       "\n",
       "    .dataframe tbody tr th {\n",
       "        vertical-align: top;\n",
       "    }\n",
       "\n",
       "    .dataframe thead th {\n",
       "        text-align: right;\n",
       "    }\n",
       "</style>\n",
       "<table border=\"1\" class=\"dataframe\">\n",
       "  <thead>\n",
       "    <tr style=\"text-align: right;\">\n",
       "      <th></th>\n",
       "      <th>pickup_datetime</th>\n",
       "      <th>dropoff_datetime</th>\n",
       "    </tr>\n",
       "  </thead>\n",
       "  <tbody>\n",
       "    <tr>\n",
       "      <th>0</th>\n",
       "      <td>2016-03-14 17:24:55</td>\n",
       "      <td>2016-03-14 17:32:30</td>\n",
       "    </tr>\n",
       "    <tr>\n",
       "      <th>1</th>\n",
       "      <td>2016-06-12 00:43:35</td>\n",
       "      <td>2016-06-12 00:54:38</td>\n",
       "    </tr>\n",
       "    <tr>\n",
       "      <th>2</th>\n",
       "      <td>2016-01-19 11:35:24</td>\n",
       "      <td>2016-01-19 12:10:48</td>\n",
       "    </tr>\n",
       "    <tr>\n",
       "      <th>3</th>\n",
       "      <td>2016-04-06 19:32:31</td>\n",
       "      <td>2016-04-06 19:39:40</td>\n",
       "    </tr>\n",
       "    <tr>\n",
       "      <th>4</th>\n",
       "      <td>2016-03-26 13:30:55</td>\n",
       "      <td>2016-03-26 13:38:10</td>\n",
       "    </tr>\n",
       "  </tbody>\n",
       "</table>\n",
       "</div>"
      ],
      "text/plain": [
       "       pickup_datetime     dropoff_datetime\n",
       "0  2016-03-14 17:24:55  2016-03-14 17:32:30\n",
       "1  2016-06-12 00:43:35  2016-06-12 00:54:38\n",
       "2  2016-01-19 11:35:24  2016-01-19 12:10:48\n",
       "3  2016-04-06 19:32:31  2016-04-06 19:39:40\n",
       "4  2016-03-26 13:30:55  2016-03-26 13:38:10"
      ]
     },
     "execution_count": 7,
     "metadata": {},
     "output_type": "execute_result"
    }
   ],
   "source": [
    "input_data[['pickup_datetime','dropoff_datetime']].head()"
   ]
  },
  {
   "cell_type": "markdown",
   "metadata": {},
   "source": [
    "### Lets visualize the passanger count using a box and whisker plot\n",
    "\n",
    "* A box and whisker plot can easily detect outliers. An outlier is an observation that is numerically distant from the rest of the data, so any point located outside the whiskers is an outlier.\n",
    "* The number of passanger ranges from 0-8"
   ]
  },
  {
   "cell_type": "markdown",
   "metadata": {},
   "source": [
    "According to the official uber website (https://www.uber.com/us/en/ride/how-it-works/uber-ride-types/), the uberX can carry up to 4 people and the uberSUV can carry up to 6 people, both without including the driver. All passengers with a number greater than 6 are regarded outliers and are excluded based on domain knowledge and a box-and-whisker plot. We also regard 0 number of passages as an error because it means it was not a ride, so we will delete 0 in passager column. Outliers 5 and 6 will be kept because uberSUV can cater for them. Only 65 rows were removed using the passenger count feature. "
   ]
  },
  {
   "cell_type": "code",
   "execution_count": 8,
   "metadata": {},
   "outputs": [
    {
     "data": {
      "text/plain": [
       "<AxesSubplot:xlabel='passenger_count'>"
      ]
     },
     "execution_count": 8,
     "metadata": {},
     "output_type": "execute_result"
    },
    {
     "data": {
      "image/png": "[encoded data removed]",
      "text/plain": [
       "<Figure size 432x288 with 1 Axes>"
      ]
     },
     "metadata": {
      "needs_background": "light"
     },
     "output_type": "display_data"
    }
   ],
   "source": [
    "sns.boxplot(x=input_data['passenger_count'])"
   ]
  },
  {
   "cell_type": "code",
   "execution_count": 9,
   "metadata": {},
   "outputs": [
    {
     "name": "stdout",
     "output_type": "stream",
     "text": [
      "Number passenger count '=0' and '>6' in passanger_count column:  65\n"
     ]
    }
   ],
   "source": [
    "drop_index = input_data[(input_data.passenger_count==0) | (input_data.passenger_count>6)].index\n",
    "print(\"Number passenger count '=0' and '>6' in passanger_count column: \", len(drop_index))\n",
    "df = input_data.drop(drop_index)"
   ]
  },
  {
   "cell_type": "markdown",
   "metadata": {},
   "source": [
    "### Lets visualize the trip duration, given using log-scale distplot in sns\n",
    "The durations of the trips are measured in seconds, with some lasting more than 350000 seconds, far longer than others lasting less than 1000 seconds. Such long trips are making all another trip invisible in the histogram on plain scale => We go ahead with the log scale.  The log scale distribution plot in sns will be used to ensure that the trip duration seconds scale to the same numbers with no major gaps between them. As a result, plotting the trip durations on a regular scale won't work, therefore we'll use a log scale instead. "
   ]
  },
  {
   "cell_type": "code",
   "execution_count": 10,
   "metadata": {
    "scrolled": true
   },
   "outputs": [
    {
     "data": {
      "image/png": "[encoded data removed]",
      "text/plain": [
       "<Figure size 792x504 with 1 Axes>"
      ]
     },
     "metadata": {},
     "output_type": "display_data"
    }
   ],
   "source": [
    "%matplotlib inline\n",
    "sns.set(style=\"white\", palette=\"muted\", color_codes=True)\n",
    "f, axes = plt.subplots(1, 1, figsize=(11, 7), sharex=True)\n",
    "sns.despine(left=True)\n",
    "sns.distplot(np.log(df['trip_duration'].values+1), axlabel = 'Log(trip_duration)', label = 'log(trip_duration)', bins = 50, color=\"r\")\n",
    "plt.setp(axes, yticks=[])\n",
    "plt.tight_layout()\n",
    "plt.show()"
   ]
  },
  {
   "cell_type": "code",
   "execution_count": 11,
   "metadata": {},
   "outputs": [
    {
     "name": "stdout",
     "output_type": "stream",
     "text": [
      "minimum time for trip duration:  1\n",
      "maximum time for trip duration:  3526282\n"
     ]
    }
   ],
   "source": [
    "series = df['trip_duration']\n",
    "print(\"minimum time for trip duration: \",min(series))\n",
    "print(\"maximum time for trip duration: \",max(series))"
   ]
  },
  {
   "cell_type": "markdown",
   "metadata": {},
   "source": [
    "It is clear with the above histogram and kernel density plot that the trip-durations assume a Normal Distrbution and few trips have very large duration, like 3526282 seconds which is approximately 1000 hours (It is safe to make the assumption that these trips are not from the inner city but city to city), while most of the trips are e^4 = 1 minute to e^8 ~ 60 minutes. We will only consider trips that are above 1 minutes, a 1 second trip does not make sense."
   ]
  },
  {
   "cell_type": "code",
   "execution_count": 12,
   "metadata": {},
   "outputs": [
    {
     "name": "stdout",
     "output_type": "stream",
     "text": [
      "Number of trip durations '< 1 minute' in trip_duration column 8550\n"
     ]
    }
   ],
   "source": [
    "index_tripDuration = df[df.trip_duration < 60].index\n",
    "print(\"Number of trip durations '< 1 minute' in trip_duration column\",len(index_tripDuration))\n",
    "df.drop(index_tripDuration,inplace=True)"
   ]
  },
  {
   "cell_type": "markdown",
   "metadata": {},
   "source": [
    "### Lets visualize the latitude and longitude coordinates"
   ]
  },
  {
   "cell_type": "markdown",
   "metadata": {},
   "source": [
    "* The pickup longitude/latitude and dropoff longitude/latitude are represented as expected"
   ]
  },
  {
   "cell_type": "code",
   "execution_count": 13,
   "metadata": {},
   "outputs": [
    {
     "data": {
      "text/html": [
       "<div>\n",
       "<style scoped>\n",
       "    .dataframe tbody tr th:only-of-type {\n",
       "        vertical-align: middle;\n",
       "    }\n",
       "\n",
       "    .dataframe tbody tr th {\n",
       "        vertical-align: top;\n",
       "    }\n",
       "\n",
       "    .dataframe thead th {\n",
       "        text-align: right;\n",
       "    }\n",
       "</style>\n",
       "<table border=\"1\" class=\"dataframe\">\n",
       "  <thead>\n",
       "    <tr style=\"text-align: right;\">\n",
       "      <th></th>\n",
       "      <th>pickup_longitude</th>\n",
       "      <th>pickup_latitude</th>\n",
       "      <th>dropoff_longitude</th>\n",
       "      <th>dropoff_latitude</th>\n",
       "    </tr>\n",
       "  </thead>\n",
       "  <tbody>\n",
       "    <tr>\n",
       "      <th>0</th>\n",
       "      <td>-73.982155</td>\n",
       "      <td>40.767937</td>\n",
       "      <td>-73.964630</td>\n",
       "      <td>40.765602</td>\n",
       "    </tr>\n",
       "    <tr>\n",
       "      <th>1</th>\n",
       "      <td>-73.980415</td>\n",
       "      <td>40.738564</td>\n",
       "      <td>-73.999481</td>\n",
       "      <td>40.731152</td>\n",
       "    </tr>\n",
       "    <tr>\n",
       "      <th>2</th>\n",
       "      <td>-73.979027</td>\n",
       "      <td>40.763939</td>\n",
       "      <td>-74.005333</td>\n",
       "      <td>40.710087</td>\n",
       "    </tr>\n",
       "    <tr>\n",
       "      <th>3</th>\n",
       "      <td>-74.010040</td>\n",
       "      <td>40.719971</td>\n",
       "      <td>-74.012268</td>\n",
       "      <td>40.706718</td>\n",
       "    </tr>\n",
       "    <tr>\n",
       "      <th>4</th>\n",
       "      <td>-73.973053</td>\n",
       "      <td>40.793209</td>\n",
       "      <td>-73.972923</td>\n",
       "      <td>40.782520</td>\n",
       "    </tr>\n",
       "  </tbody>\n",
       "</table>\n",
       "</div>"
      ],
      "text/plain": [
       "   pickup_longitude  pickup_latitude  dropoff_longitude  dropoff_latitude\n",
       "0        -73.982155        40.767937         -73.964630         40.765602\n",
       "1        -73.980415        40.738564         -73.999481         40.731152\n",
       "2        -73.979027        40.763939         -74.005333         40.710087\n",
       "3        -74.010040        40.719971         -74.012268         40.706718\n",
       "4        -73.973053        40.793209         -73.972923         40.782520"
      ]
     },
     "execution_count": 13,
     "metadata": {},
     "output_type": "execute_result"
    }
   ],
   "source": [
    "df[['pickup_longitude','pickup_latitude','dropoff_longitude','dropoff_latitude']].head()"
   ]
  },
  {
   "cell_type": "markdown",
   "metadata": {},
   "source": [
    "* Consider below where we check the latitude and longitude distributions to have know the coordinates of all trips happening around New York City."
   ]
  },
  {
   "cell_type": "code",
   "execution_count": 14,
   "metadata": {},
   "outputs": [
    {
     "data": {
      "image/png": "[encoded data removed]",
      "text/plain": [
       "<Figure size 720x720 with 4 Axes>"
      ]
     },
     "metadata": {},
     "output_type": "display_data"
    }
   ],
   "source": [
    "sns.set(style=\"white\", palette=\"muted\", color_codes=True)\n",
    "f, axes = plt.subplots(2,2,figsize=(10, 10), sharex=False, sharey = False)\n",
    "sns.despine(left=True)\n",
    "sns.distplot(df['pickup_latitude'].values, label = 'pickup_latitude',color=\"m\", bins = 100, ax=axes[0,0])\n",
    "sns.distplot(df['pickup_longitude'].values, label = 'pickup_longitude',color=\"m\", bins =100, ax=axes[0,1])\n",
    "sns.distplot(df['dropoff_latitude'].values, label = 'dropoff_latitude',color=\"m\", bins =100, ax=axes[1, 0])\n",
    "sns.distplot(df['dropoff_longitude'].values, label = 'dropoff_longitude',color=\"m\", bins =100, ax=axes[1, 1])\n",
    "plt.setp(axes, yticks=[])\n",
    "plt.tight_layout()\n",
    "plt.show()"
   ]
  },
  {
   "cell_type": "markdown",
   "metadata": {},
   "source": [
    "The latitude and longitude features are used to construct the distribution plots above. The pick and drop latitudes are concentrated about 40 to 41 degrees, while the longitude is around -74 to -73 degrees, as seen in the graphs above. We don't get a histogram-like plot from the plots above, indicating that outliers affect the sns distribution function. Large trips will be eliminated by setting a limit from 40 to 41 degrees latitude and -74 to -73 degrees longitude, respectively."
   ]
  },
  {
   "cell_type": "code",
   "execution_count": 15,
   "metadata": {},
   "outputs": [
    {
     "name": "stdout",
     "output_type": "stream",
     "text": [
      "4303\n"
     ]
    }
   ],
   "source": [
    "# Eliminating the outliers using with a lower and upper bound\n",
    "before_drop = len(df)\n",
    "df = df.loc[(df.pickup_latitude > 40.6) & (df.pickup_latitude < 40.9)]\n",
    "df = df.loc[(df.pickup_longitude > -74.05) & (df.pickup_longitude < -73.7)]\n",
    "df = df.loc[(df.dropoff_latitude> 40) & (df.dropoff_latitude < 42)]\n",
    "df = df.loc[(df.dropoff_longitude > -74.05) & (df.dropoff_longitude < -73.7)]\n",
    "print(before_drop - len(df))"
   ]
  },
  {
   "cell_type": "code",
   "execution_count": 16,
   "metadata": {},
   "outputs": [
    {
     "data": {
      "image/png": "[encoded data removed]",
      "text/plain": [
       "<Figure size 864x864 with 4 Axes>"
      ]
     },
     "metadata": {},
     "output_type": "display_data"
    }
   ],
   "source": [
    "train_data_new = df.copy()\n",
    "sns.set(style=\"white\", palette=\"muted\", color_codes=True)\n",
    "f, axes = plt.subplots(2,2,figsize=(12, 12), sharex=False, sharey = False)#\n",
    "sns.despine(left=True)\n",
    "sns.distplot(train_data_new['pickup_latitude'].values, label = 'pickup_latitude',color=\"m\",bins = 100, ax=axes[0,0])\n",
    "sns.distplot(train_data_new['pickup_longitude'].values, label = 'pickup_longitude',color=\"g\",bins =100, ax=axes[0,1])\n",
    "sns.distplot(train_data_new['dropoff_latitude'].values, label = 'dropoff_latitude',color=\"m\",bins =100, ax=axes[1, 0])\n",
    "sns.distplot(train_data_new['dropoff_longitude'].values, label = 'dropoff_longitude',color=\"g\",bins =100, ax=axes[1, 1])\n",
    "plt.setp(axes, yticks=[])\n",
    "plt.tight_layout()\n",
    "plt.show()"
   ]
  },
  {
   "cell_type": "markdown",
   "metadata": {},
   "source": [
    "The latitude pickup and dropoff range have been reduced from 40.6 to 40.9, while the longitude pickup and dropoff range has been reduced from -74.05 to -73.7. This assures that the trips are focused solely on the same place (New York City)."
   ]
  },
  {
   "cell_type": "markdown",
   "metadata": {},
   "source": [
    "# TODO: Discuss the trip hours. 1 second doenst make sense so does 1000 hours, we only consider New York, that so many hours mean we traveling the entire Earth in a Renault Kwid.\n",
    "!! I haven't check the section below\n"
   ]
  },
  {
   "cell_type": "markdown",
   "metadata": {},
   "source": [
    "# Feature Generation"
   ]
  },
  {
   "cell_type": "code",
   "execution_count": 17,
   "metadata": {},
   "outputs": [],
   "source": [
    "\"\"\"function to calculate haversine distance between two co-ordinates\"\"\"\n",
    "def haversine_(lat1, lng1, lat2, lng2):\n",
    "    lat1, lng1, lat2, lng2 = map(np.radians, (lat1, lng1, lat2, lng2))\n",
    "    AVG_EARTH_RADIUS = 6371  # in km\n",
    "    lat = lat2 - lat1\n",
    "    lng = lng2 - lng1\n",
    "    d = np.sin(lat * 0.5) ** 2 + np.cos(lat1) * np.cos(lat2) * np.sin(lng * 0.5) ** 2\n",
    "    h = 2 * AVG_EARTH_RADIUS * np.arcsin(np.sqrt(d))\n",
    "    return(h)\n",
    "\n",
    "\"\"\"function to calculate manhatten distance between pick_drop\"\"\"\n",
    "def manhattan_distance_pd(lat1, lng1, lat2, lng2):\n",
    "    a = haversine_(lat1, lng1, lat1, lng2)\n",
    "    b = haversine_(lat1, lng1, lat2, lng1)\n",
    "    return a + b"
   ]
  },
  {
   "cell_type": "code",
   "execution_count": 18,
   "metadata": {},
   "outputs": [
    {
     "data": {
      "text/html": [
       "<div>\n",
       "<style scoped>\n",
       "    .dataframe tbody tr th:only-of-type {\n",
       "        vertical-align: middle;\n",
       "    }\n",
       "\n",
       "    .dataframe tbody tr th {\n",
       "        vertical-align: top;\n",
       "    }\n",
       "\n",
       "    .dataframe thead th {\n",
       "        text-align: right;\n",
       "    }\n",
       "</style>\n",
       "<table border=\"1\" class=\"dataframe\">\n",
       "  <thead>\n",
       "    <tr style=\"text-align: right;\">\n",
       "      <th></th>\n",
       "      <th>vendor_id</th>\n",
       "      <th>pickup_datetime</th>\n",
       "      <th>dropoff_datetime</th>\n",
       "      <th>passenger_count</th>\n",
       "      <th>pickup_longitude</th>\n",
       "      <th>pickup_latitude</th>\n",
       "      <th>dropoff_longitude</th>\n",
       "      <th>dropoff_latitude</th>\n",
       "      <th>store_and_fwd_flag</th>\n",
       "      <th>trip_duration</th>\n",
       "      <th>distance_of_trip</th>\n",
       "      <th>day_of_week</th>\n",
       "      <th>Speed_of_trip</th>\n",
       "    </tr>\n",
       "  </thead>\n",
       "  <tbody>\n",
       "    <tr>\n",
       "      <th>0</th>\n",
       "      <td>2</td>\n",
       "      <td>2016-03-14 17:24:55</td>\n",
       "      <td>2016-03-14 17:32:30</td>\n",
       "      <td>1</td>\n",
       "      <td>-73.982155</td>\n",
       "      <td>40.767937</td>\n",
       "      <td>-73.964630</td>\n",
       "      <td>40.765602</td>\n",
       "      <td>N</td>\n",
       "      <td>455</td>\n",
       "      <td>1.735433</td>\n",
       "      <td>0</td>\n",
       "      <td>3.814139</td>\n",
       "    </tr>\n",
       "    <tr>\n",
       "      <th>1</th>\n",
       "      <td>1</td>\n",
       "      <td>2016-06-12 00:43:35</td>\n",
       "      <td>2016-06-12 00:54:38</td>\n",
       "      <td>1</td>\n",
       "      <td>-73.980415</td>\n",
       "      <td>40.738564</td>\n",
       "      <td>-73.999481</td>\n",
       "      <td>40.731152</td>\n",
       "      <td>N</td>\n",
       "      <td>663</td>\n",
       "      <td>2.430506</td>\n",
       "      <td>6</td>\n",
       "      <td>3.665922</td>\n",
       "    </tr>\n",
       "    <tr>\n",
       "      <th>2</th>\n",
       "      <td>2</td>\n",
       "      <td>2016-01-19 11:35:24</td>\n",
       "      <td>2016-01-19 12:10:48</td>\n",
       "      <td>1</td>\n",
       "      <td>-73.979027</td>\n",
       "      <td>40.763939</td>\n",
       "      <td>-74.005333</td>\n",
       "      <td>40.710087</td>\n",
       "      <td>N</td>\n",
       "      <td>2124</td>\n",
       "      <td>8.203575</td>\n",
       "      <td>1</td>\n",
       "      <td>3.862323</td>\n",
       "    </tr>\n",
       "    <tr>\n",
       "      <th>3</th>\n",
       "      <td>2</td>\n",
       "      <td>2016-04-06 19:32:31</td>\n",
       "      <td>2016-04-06 19:39:40</td>\n",
       "      <td>1</td>\n",
       "      <td>-74.010040</td>\n",
       "      <td>40.719971</td>\n",
       "      <td>-74.012268</td>\n",
       "      <td>40.706718</td>\n",
       "      <td>N</td>\n",
       "      <td>429</td>\n",
       "      <td>1.661331</td>\n",
       "      <td>2</td>\n",
       "      <td>3.872567</td>\n",
       "    </tr>\n",
       "    <tr>\n",
       "      <th>4</th>\n",
       "      <td>2</td>\n",
       "      <td>2016-03-26 13:30:55</td>\n",
       "      <td>2016-03-26 13:38:10</td>\n",
       "      <td>1</td>\n",
       "      <td>-73.973053</td>\n",
       "      <td>40.793209</td>\n",
       "      <td>-73.972923</td>\n",
       "      <td>40.782520</td>\n",
       "      <td>N</td>\n",
       "      <td>435</td>\n",
       "      <td>1.199457</td>\n",
       "      <td>5</td>\n",
       "      <td>2.757372</td>\n",
       "    </tr>\n",
       "    <tr>\n",
       "      <th>...</th>\n",
       "      <td>...</td>\n",
       "      <td>...</td>\n",
       "      <td>...</td>\n",
       "      <td>...</td>\n",
       "      <td>...</td>\n",
       "      <td>...</td>\n",
       "      <td>...</td>\n",
       "      <td>...</td>\n",
       "      <td>...</td>\n",
       "      <td>...</td>\n",
       "      <td>...</td>\n",
       "      <td>...</td>\n",
       "      <td>...</td>\n",
       "    </tr>\n",
       "    <tr>\n",
       "      <th>1458639</th>\n",
       "      <td>2</td>\n",
       "      <td>2016-04-08 13:31:04</td>\n",
       "      <td>2016-04-08 13:44:02</td>\n",
       "      <td>4</td>\n",
       "      <td>-73.982201</td>\n",
       "      <td>40.745522</td>\n",
       "      <td>-73.994911</td>\n",
       "      <td>40.740170</td>\n",
       "      <td>N</td>\n",
       "      <td>778</td>\n",
       "      <td>1.665895</td>\n",
       "      <td>4</td>\n",
       "      <td>2.141253</td>\n",
       "    </tr>\n",
       "    <tr>\n",
       "      <th>1458640</th>\n",
       "      <td>1</td>\n",
       "      <td>2016-01-10 07:35:15</td>\n",
       "      <td>2016-01-10 07:46:10</td>\n",
       "      <td>1</td>\n",
       "      <td>-74.000946</td>\n",
       "      <td>40.747379</td>\n",
       "      <td>-73.970184</td>\n",
       "      <td>40.796547</td>\n",
       "      <td>N</td>\n",
       "      <td>655</td>\n",
       "      <td>8.058580</td>\n",
       "      <td>6</td>\n",
       "      <td>12.303176</td>\n",
       "    </tr>\n",
       "    <tr>\n",
       "      <th>1458641</th>\n",
       "      <td>2</td>\n",
       "      <td>2016-04-22 06:57:41</td>\n",
       "      <td>2016-04-22 07:10:25</td>\n",
       "      <td>1</td>\n",
       "      <td>-73.959129</td>\n",
       "      <td>40.768799</td>\n",
       "      <td>-74.004433</td>\n",
       "      <td>40.707371</td>\n",
       "      <td>N</td>\n",
       "      <td>764</td>\n",
       "      <td>10.645646</td>\n",
       "      <td>4</td>\n",
       "      <td>13.934091</td>\n",
       "    </tr>\n",
       "    <tr>\n",
       "      <th>1458642</th>\n",
       "      <td>1</td>\n",
       "      <td>2016-01-05 15:56:26</td>\n",
       "      <td>2016-01-05 16:02:39</td>\n",
       "      <td>1</td>\n",
       "      <td>-73.982079</td>\n",
       "      <td>40.749062</td>\n",
       "      <td>-73.974632</td>\n",
       "      <td>40.757107</td>\n",
       "      <td>N</td>\n",
       "      <td>373</td>\n",
       "      <td>1.521850</td>\n",
       "      <td>1</td>\n",
       "      <td>4.080026</td>\n",
       "    </tr>\n",
       "    <tr>\n",
       "      <th>1458643</th>\n",
       "      <td>1</td>\n",
       "      <td>2016-04-05 14:44:25</td>\n",
       "      <td>2016-04-05 14:47:43</td>\n",
       "      <td>1</td>\n",
       "      <td>-73.979538</td>\n",
       "      <td>40.781750</td>\n",
       "      <td>-73.972809</td>\n",
       "      <td>40.790585</td>\n",
       "      <td>N</td>\n",
       "      <td>198</td>\n",
       "      <td>1.548962</td>\n",
       "      <td>1</td>\n",
       "      <td>7.823043</td>\n",
       "    </tr>\n",
       "  </tbody>\n",
       "</table>\n",
       "<p>1445726 rows × 13 columns</p>\n",
       "</div>"
      ],
      "text/plain": [
       "         vendor_id     pickup_datetime     dropoff_datetime  passenger_count  \\\n",
       "0                2 2016-03-14 17:24:55  2016-03-14 17:32:30                1   \n",
       "1                1 2016-06-12 00:43:35  2016-06-12 00:54:38                1   \n",
       "2                2 2016-01-19 11:35:24  2016-01-19 12:10:48                1   \n",
       "3                2 2016-04-06 19:32:31  2016-04-06 19:39:40                1   \n",
       "4                2 2016-03-26 13:30:55  2016-03-26 13:38:10                1   \n",
       "...            ...                 ...                  ...              ...   \n",
       "1458639          2 2016-04-08 13:31:04  2016-04-08 13:44:02                4   \n",
       "1458640          1 2016-01-10 07:35:15  2016-01-10 07:46:10                1   \n",
       "1458641          2 2016-04-22 06:57:41  2016-04-22 07:10:25                1   \n",
       "1458642          1 2016-01-05 15:56:26  2016-01-05 16:02:39                1   \n",
       "1458643          1 2016-04-05 14:44:25  2016-04-05 14:47:43                1   \n",
       "\n",
       "         pickup_longitude  pickup_latitude  dropoff_longitude  \\\n",
       "0              -73.982155        40.767937         -73.964630   \n",
       "1              -73.980415        40.738564         -73.999481   \n",
       "2              -73.979027        40.763939         -74.005333   \n",
       "3              -74.010040        40.719971         -74.012268   \n",
       "4              -73.973053        40.793209         -73.972923   \n",
       "...                   ...              ...                ...   \n",
       "1458639        -73.982201        40.745522         -73.994911   \n",
       "1458640        -74.000946        40.747379         -73.970184   \n",
       "1458641        -73.959129        40.768799         -74.004433   \n",
       "1458642        -73.982079        40.749062         -73.974632   \n",
       "1458643        -73.979538        40.781750         -73.972809   \n",
       "\n",
       "         dropoff_latitude store_and_fwd_flag  trip_duration  distance_of_trip  \\\n",
       "0               40.765602                  N            455          1.735433   \n",
       "1               40.731152                  N            663          2.430506   \n",
       "2               40.710087                  N           2124          8.203575   \n",
       "3               40.706718                  N            429          1.661331   \n",
       "4               40.782520                  N            435          1.199457   \n",
       "...                   ...                ...            ...               ...   \n",
       "1458639         40.740170                  N            778          1.665895   \n",
       "1458640         40.796547                  N            655          8.058580   \n",
       "1458641         40.707371                  N            764         10.645646   \n",
       "1458642         40.757107                  N            373          1.521850   \n",
       "1458643         40.790585                  N            198          1.548962   \n",
       "\n",
       "         day_of_week  Speed_of_trip  \n",
       "0                  0       3.814139  \n",
       "1                  6       3.665922  \n",
       "2                  1       3.862323  \n",
       "3                  2       3.872567  \n",
       "4                  5       2.757372  \n",
       "...              ...            ...  \n",
       "1458639            4       2.141253  \n",
       "1458640            6      12.303176  \n",
       "1458641            4      13.934091  \n",
       "1458642            1       4.080026  \n",
       "1458643            1       7.823043  \n",
       "\n",
       "[1445726 rows x 13 columns]"
      ]
     },
     "execution_count": 18,
     "metadata": {},
     "output_type": "execute_result"
    }
   ],
   "source": [
    "# Feature generation\n",
    "\n",
    "# Distance\n",
    "train_data_new.loc[:,'distance_of_trip'] = manhattan_distance_pd(train_data_new['pickup_latitude'].values,\n",
    "                                                             train_data_new['pickup_longitude'].values, \n",
    "                                                             train_data_new['dropoff_latitude'].values, \n",
    "                                                             train_data_new['dropoff_longitude'].values)\n",
    "\n",
    "# Day of the week\n",
    "train_data_new['pickup_datetime'] = pd.to_datetime(train_data_new.pickup_datetime)\n",
    "train_data_new.loc[:, 'day_of_week'] = train_data_new['pickup_datetime'].dt.dayofweek\n",
    "\n",
    "# Average speed of the trip\n",
    "train_data_new['Speed_of_trip'] = ((train_data_new.distance_of_trip/train_data_new.trip_duration)*1000)\n",
    "\n",
    "train_data_new"
   ]
  },
  {
   "cell_type": "code",
   "execution_count": null,
   "metadata": {},
   "outputs": [],
   "source": []
  },
  {
   "cell_type": "markdown",
   "metadata": {},
   "source": [
    "## Time-based questions"
   ]
  },
  {
   "cell_type": "markdown",
   "metadata": {},
   "source": [
    "### Days of the week plot\n",
    "According to the bar-graph plot above, day 4 is the most popular day."
   ]
  },
  {
   "cell_type": "code",
   "execution_count": 19,
   "metadata": {},
   "outputs": [
    {
     "data": {
      "text/plain": [
       "<AxesSubplot:>"
      ]
     },
     "execution_count": 19,
     "metadata": {},
     "output_type": "execute_result"
    },
    {
     "data": {
      "image/png": "[encoded data removed]",
      "text/plain": [
       "<Figure size 432x288 with 1 Axes>"
      ]
     },
     "metadata": {},
     "output_type": "display_data"
    }
   ],
   "source": [
    "train_data_new['day_of_week'].value_counts(normalize=True).plot.bar()"
   ]
  },
  {
   "cell_type": "code",
   "execution_count": 20,
   "metadata": {},
   "outputs": [
    {
     "data": {
      "text/html": [
       "<div>\n",
       "<style scoped>\n",
       "    .dataframe tbody tr th:only-of-type {\n",
       "        vertical-align: middle;\n",
       "    }\n",
       "\n",
       "    .dataframe tbody tr th {\n",
       "        vertical-align: top;\n",
       "    }\n",
       "\n",
       "    .dataframe thead th {\n",
       "        text-align: right;\n",
       "    }\n",
       "</style>\n",
       "<table border=\"1\" class=\"dataframe\">\n",
       "  <thead>\n",
       "    <tr style=\"text-align: right;\">\n",
       "      <th></th>\n",
       "      <th>vendor_id</th>\n",
       "      <th>pickup_datetime</th>\n",
       "      <th>dropoff_datetime</th>\n",
       "      <th>passenger_count</th>\n",
       "      <th>pickup_longitude</th>\n",
       "      <th>pickup_latitude</th>\n",
       "      <th>dropoff_longitude</th>\n",
       "      <th>dropoff_latitude</th>\n",
       "      <th>store_and_fwd_flag</th>\n",
       "      <th>trip_duration</th>\n",
       "      <th>distance_of_trip</th>\n",
       "      <th>day_of_week</th>\n",
       "      <th>Speed_of_trip</th>\n",
       "      <th>hour</th>\n",
       "    </tr>\n",
       "  </thead>\n",
       "  <tbody>\n",
       "    <tr>\n",
       "      <th>0</th>\n",
       "      <td>2</td>\n",
       "      <td>2016-03-14 17:24:55</td>\n",
       "      <td>2016-03-14 17:32:30</td>\n",
       "      <td>1</td>\n",
       "      <td>-73.982155</td>\n",
       "      <td>40.767937</td>\n",
       "      <td>-73.964630</td>\n",
       "      <td>40.765602</td>\n",
       "      <td>N</td>\n",
       "      <td>455</td>\n",
       "      <td>1.735433</td>\n",
       "      <td>0</td>\n",
       "      <td>3.814139</td>\n",
       "      <td>17</td>\n",
       "    </tr>\n",
       "    <tr>\n",
       "      <th>1</th>\n",
       "      <td>1</td>\n",
       "      <td>2016-06-12 00:43:35</td>\n",
       "      <td>2016-06-12 00:54:38</td>\n",
       "      <td>1</td>\n",
       "      <td>-73.980415</td>\n",
       "      <td>40.738564</td>\n",
       "      <td>-73.999481</td>\n",
       "      <td>40.731152</td>\n",
       "      <td>N</td>\n",
       "      <td>663</td>\n",
       "      <td>2.430506</td>\n",
       "      <td>6</td>\n",
       "      <td>3.665922</td>\n",
       "      <td>0</td>\n",
       "    </tr>\n",
       "    <tr>\n",
       "      <th>2</th>\n",
       "      <td>2</td>\n",
       "      <td>2016-01-19 11:35:24</td>\n",
       "      <td>2016-01-19 12:10:48</td>\n",
       "      <td>1</td>\n",
       "      <td>-73.979027</td>\n",
       "      <td>40.763939</td>\n",
       "      <td>-74.005333</td>\n",
       "      <td>40.710087</td>\n",
       "      <td>N</td>\n",
       "      <td>2124</td>\n",
       "      <td>8.203575</td>\n",
       "      <td>1</td>\n",
       "      <td>3.862323</td>\n",
       "      <td>11</td>\n",
       "    </tr>\n",
       "    <tr>\n",
       "      <th>3</th>\n",
       "      <td>2</td>\n",
       "      <td>2016-04-06 19:32:31</td>\n",
       "      <td>2016-04-06 19:39:40</td>\n",
       "      <td>1</td>\n",
       "      <td>-74.010040</td>\n",
       "      <td>40.719971</td>\n",
       "      <td>-74.012268</td>\n",
       "      <td>40.706718</td>\n",
       "      <td>N</td>\n",
       "      <td>429</td>\n",
       "      <td>1.661331</td>\n",
       "      <td>2</td>\n",
       "      <td>3.872567</td>\n",
       "      <td>19</td>\n",
       "    </tr>\n",
       "    <tr>\n",
       "      <th>4</th>\n",
       "      <td>2</td>\n",
       "      <td>2016-03-26 13:30:55</td>\n",
       "      <td>2016-03-26 13:38:10</td>\n",
       "      <td>1</td>\n",
       "      <td>-73.973053</td>\n",
       "      <td>40.793209</td>\n",
       "      <td>-73.972923</td>\n",
       "      <td>40.782520</td>\n",
       "      <td>N</td>\n",
       "      <td>435</td>\n",
       "      <td>1.199457</td>\n",
       "      <td>5</td>\n",
       "      <td>2.757372</td>\n",
       "      <td>13</td>\n",
       "    </tr>\n",
       "    <tr>\n",
       "      <th>...</th>\n",
       "      <td>...</td>\n",
       "      <td>...</td>\n",
       "      <td>...</td>\n",
       "      <td>...</td>\n",
       "      <td>...</td>\n",
       "      <td>...</td>\n",
       "      <td>...</td>\n",
       "      <td>...</td>\n",
       "      <td>...</td>\n",
       "      <td>...</td>\n",
       "      <td>...</td>\n",
       "      <td>...</td>\n",
       "      <td>...</td>\n",
       "      <td>...</td>\n",
       "    </tr>\n",
       "    <tr>\n",
       "      <th>1458639</th>\n",
       "      <td>2</td>\n",
       "      <td>2016-04-08 13:31:04</td>\n",
       "      <td>2016-04-08 13:44:02</td>\n",
       "      <td>4</td>\n",
       "      <td>-73.982201</td>\n",
       "      <td>40.745522</td>\n",
       "      <td>-73.994911</td>\n",
       "      <td>40.740170</td>\n",
       "      <td>N</td>\n",
       "      <td>778</td>\n",
       "      <td>1.665895</td>\n",
       "      <td>4</td>\n",
       "      <td>2.141253</td>\n",
       "      <td>13</td>\n",
       "    </tr>\n",
       "    <tr>\n",
       "      <th>1458640</th>\n",
       "      <td>1</td>\n",
       "      <td>2016-01-10 07:35:15</td>\n",
       "      <td>2016-01-10 07:46:10</td>\n",
       "      <td>1</td>\n",
       "      <td>-74.000946</td>\n",
       "      <td>40.747379</td>\n",
       "      <td>-73.970184</td>\n",
       "      <td>40.796547</td>\n",
       "      <td>N</td>\n",
       "      <td>655</td>\n",
       "      <td>8.058580</td>\n",
       "      <td>6</td>\n",
       "      <td>12.303176</td>\n",
       "      <td>7</td>\n",
       "    </tr>\n",
       "    <tr>\n",
       "      <th>1458641</th>\n",
       "      <td>2</td>\n",
       "      <td>2016-04-22 06:57:41</td>\n",
       "      <td>2016-04-22 07:10:25</td>\n",
       "      <td>1</td>\n",
       "      <td>-73.959129</td>\n",
       "      <td>40.768799</td>\n",
       "      <td>-74.004433</td>\n",
       "      <td>40.707371</td>\n",
       "      <td>N</td>\n",
       "      <td>764</td>\n",
       "      <td>10.645646</td>\n",
       "      <td>4</td>\n",
       "      <td>13.934091</td>\n",
       "      <td>6</td>\n",
       "    </tr>\n",
       "    <tr>\n",
       "      <th>1458642</th>\n",
       "      <td>1</td>\n",
       "      <td>2016-01-05 15:56:26</td>\n",
       "      <td>2016-01-05 16:02:39</td>\n",
       "      <td>1</td>\n",
       "      <td>-73.982079</td>\n",
       "      <td>40.749062</td>\n",
       "      <td>-73.974632</td>\n",
       "      <td>40.757107</td>\n",
       "      <td>N</td>\n",
       "      <td>373</td>\n",
       "      <td>1.521850</td>\n",
       "      <td>1</td>\n",
       "      <td>4.080026</td>\n",
       "      <td>15</td>\n",
       "    </tr>\n",
       "    <tr>\n",
       "      <th>1458643</th>\n",
       "      <td>1</td>\n",
       "      <td>2016-04-05 14:44:25</td>\n",
       "      <td>2016-04-05 14:47:43</td>\n",
       "      <td>1</td>\n",
       "      <td>-73.979538</td>\n",
       "      <td>40.781750</td>\n",
       "      <td>-73.972809</td>\n",
       "      <td>40.790585</td>\n",
       "      <td>N</td>\n",
       "      <td>198</td>\n",
       "      <td>1.548962</td>\n",
       "      <td>1</td>\n",
       "      <td>7.823043</td>\n",
       "      <td>14</td>\n",
       "    </tr>\n",
       "  </tbody>\n",
       "</table>\n",
       "<p>1445726 rows × 14 columns</p>\n",
       "</div>"
      ],
      "text/plain": [
       "         vendor_id     pickup_datetime     dropoff_datetime  passenger_count  \\\n",
       "0                2 2016-03-14 17:24:55  2016-03-14 17:32:30                1   \n",
       "1                1 2016-06-12 00:43:35  2016-06-12 00:54:38                1   \n",
       "2                2 2016-01-19 11:35:24  2016-01-19 12:10:48                1   \n",
       "3                2 2016-04-06 19:32:31  2016-04-06 19:39:40                1   \n",
       "4                2 2016-03-26 13:30:55  2016-03-26 13:38:10                1   \n",
       "...            ...                 ...                  ...              ...   \n",
       "1458639          2 2016-04-08 13:31:04  2016-04-08 13:44:02                4   \n",
       "1458640          1 2016-01-10 07:35:15  2016-01-10 07:46:10                1   \n",
       "1458641          2 2016-04-22 06:57:41  2016-04-22 07:10:25                1   \n",
       "1458642          1 2016-01-05 15:56:26  2016-01-05 16:02:39                1   \n",
       "1458643          1 2016-04-05 14:44:25  2016-04-05 14:47:43                1   \n",
       "\n",
       "         pickup_longitude  pickup_latitude  dropoff_longitude  \\\n",
       "0              -73.982155        40.767937         -73.964630   \n",
       "1              -73.980415        40.738564         -73.999481   \n",
       "2              -73.979027        40.763939         -74.005333   \n",
       "3              -74.010040        40.719971         -74.012268   \n",
       "4              -73.973053        40.793209         -73.972923   \n",
       "...                   ...              ...                ...   \n",
       "1458639        -73.982201        40.745522         -73.994911   \n",
       "1458640        -74.000946        40.747379         -73.970184   \n",
       "1458641        -73.959129        40.768799         -74.004433   \n",
       "1458642        -73.982079        40.749062         -73.974632   \n",
       "1458643        -73.979538        40.781750         -73.972809   \n",
       "\n",
       "         dropoff_latitude store_and_fwd_flag  trip_duration  distance_of_trip  \\\n",
       "0               40.765602                  N            455          1.735433   \n",
       "1               40.731152                  N            663          2.430506   \n",
       "2               40.710087                  N           2124          8.203575   \n",
       "3               40.706718                  N            429          1.661331   \n",
       "4               40.782520                  N            435          1.199457   \n",
       "...                   ...                ...            ...               ...   \n",
       "1458639         40.740170                  N            778          1.665895   \n",
       "1458640         40.796547                  N            655          8.058580   \n",
       "1458641         40.707371                  N            764         10.645646   \n",
       "1458642         40.757107                  N            373          1.521850   \n",
       "1458643         40.790585                  N            198          1.548962   \n",
       "\n",
       "         day_of_week  Speed_of_trip  hour  \n",
       "0                  0       3.814139    17  \n",
       "1                  6       3.665922     0  \n",
       "2                  1       3.862323    11  \n",
       "3                  2       3.872567    19  \n",
       "4                  5       2.757372    13  \n",
       "...              ...            ...   ...  \n",
       "1458639            4       2.141253    13  \n",
       "1458640            6      12.303176     7  \n",
       "1458641            4      13.934091     6  \n",
       "1458642            1       4.080026    15  \n",
       "1458643            1       7.823043    14  \n",
       "\n",
       "[1445726 rows x 14 columns]"
      ]
     },
     "execution_count": 20,
     "metadata": {},
     "output_type": "execute_result"
    }
   ],
   "source": [
    "train_data_new.loc[:, 'hour'] = train_data_new['pickup_datetime'].dt.hour\n",
    "train_data_new"
   ]
  },
  {
   "cell_type": "markdown",
   "metadata": {},
   "source": [
    "### Hours of the Week plot (for each day of the week)"
   ]
  },
  {
   "cell_type": "code",
   "execution_count": 21,
   "metadata": {},
   "outputs": [
    {
     "data": {
      "image/png": "[encoded data removed]",
      "text/plain": [
       "<Figure size 432x288 with 1 Axes>"
      ]
     },
     "metadata": {},
     "output_type": "display_data"
    },
    {
     "data": {
      "image/png": "[encoded data removed]",
      "text/plain": [
       "<Figure size 432x288 with 1 Axes>"
      ]
     },
     "metadata": {},
     "output_type": "display_data"
    },
    {
     "data": {
      "image/png": "[encoded data removed]",
      "text/plain": [
       "<Figure size 432x288 with 1 Axes>"
      ]
     },
     "metadata": {},
     "output_type": "display_data"
    },
    {
     "data": {
      "image/png": "[encoded data removed]",
      "text/plain": [
       "<Figure size 432x288 with 1 Axes>"
      ]
     },
     "metadata": {},
     "output_type": "display_data"
    },
    {
     "data": {
      "image/png": "[encoded data removed]",
      "text/plain": [
       "<Figure size 432x288 with 1 Axes>"
      ]
     },
     "metadata": {},
     "output_type": "display_data"
    },
    {
     "data": {
      "image/png": "[encoded data removed]",
      "text/plain": [
       "<Figure size 432x288 with 1 Axes>"
      ]
     },
     "metadata": {},
     "output_type": "display_data"
    },
    {
     "data": {
      "image/png": "[encoded data removed]",
      "text/plain": [
       "<Figure size 432x288 with 1 Axes>"
      ]
     },
     "metadata": {},
     "output_type": "display_data"
    }
   ],
   "source": [
    "# Plotting pick hours for each day of the week \n",
    "import pylab as plt\n",
    "from pandas import *\n",
    "gk = train_data_new.groupby('day_of_week')\n",
    "for i in range(7):\n",
    "    day = gk.get_group(i)\n",
    "    day[\"hour\"].hist(bins = 24)\n",
    "    plt.title(\"Pickup hours of day \" + str(i))\n",
    "    plt.xlabel(\"Hour\")\n",
    "    plt.ylabel(\"Count\")\n",
    "    plt.show()"
   ]
  },
  {
   "cell_type": "markdown",
   "metadata": {},
   "source": [
    "# I made a big comment in this section, I think we should discus it"
   ]
  },
  {
   "cell_type": "markdown",
   "metadata": {},
   "source": [
    "We assume the hours are represented as follows, 0-hour till 23-hour from the graph is 00:00 till 23:00. And day-0 till day-6 is Sunday till Saturday. \n",
    "\n",
    "* The most popular hour of day 0 is 18. This might be because this is the hour when people come back from visiting thier loved ones or from church. This is Sunday(0).\n",
    "\n",
    "* The most popular hour of day 1 is 18. This might be because this is the knock off hour of most people. This day is Monday(1).\n",
    "\n",
    "* The most popular hour of day 2 is 19. This might be because this is the knock off hour of most people. This day is Tuesday(2).\n",
    "\n",
    "* The most popular hour of day 3 is 21. This might be because this is the knock off hour of most people. This day is Wednesday(3).\n",
    "\n",
    "* The most popular hour of day 4 is 19. This might be because this is the knock off hour of most people. This day is Thursday(4).\n",
    "\n",
    "* The most popular hour of day 5 is 23. People always prefer going out for dinner dates after work on Fridays. This day is Friday(5).\n",
    "\n",
    "* The most popular hour of day 6 is 1. This might be because peaple are coming from night clubbing. This day is Saturday(6). "
   ]
  },
  {
   "cell_type": "code",
   "execution_count": null,
   "metadata": {},
   "outputs": [],
   "source": []
  },
  {
   "cell_type": "markdown",
   "metadata": {},
   "source": [
    "### Box-Plots\n",
    "\n",
    "#### Interpretation\n",
    "Most popular plots to check the distribution of variables\n",
    "box covers data from second and third quadrant and rest is shorn by bars\n",
    "Dots on the both side of bars shows outlier"
   ]
  },
  {
   "cell_type": "code",
   "execution_count": 22,
   "metadata": {},
   "outputs": [
    {
     "name": "stdout",
     "output_type": "stream",
     "text": [
      "3526282\n"
     ]
    },
    {
     "data": {
      "image/png": "[encoded data removed]",
      "text/plain": [
       "<Figure size 432x288 with 1 Axes>"
      ]
     },
     "metadata": {},
     "output_type": "display_data"
    }
   ],
   "source": [
    "sns.set(style=\"ticks\")\n",
    "sns.set_context(\"poster\")\n",
    "sns.boxplot(x=\"day_of_week\", y=\"trip_duration\", hue=\"vendor_id\", data=train_data_new, palette=\"PRGn\")\n",
    "plt.ylim(0, 4000)\n",
    "plt.legend(bbox_to_anchor=(1.02, 1), loc='upper left', borderaxespad=0, title = \"vendor_id\")\n",
    "plt.grid()\n",
    "sns.despine(offset=10, trim=True)\n",
    "print(train_data_new.trip_duration.max())"
   ]
  },
  {
   "cell_type": "markdown",
   "metadata": {},
   "source": [
    "# I also changed this definition bcs of what I saw on the graph"
   ]
  },
  {
   "cell_type": "markdown",
   "metadata": {},
   "source": [
    "The boxplot above shows that the average travel duration on Sunday (0) and Saturday (6) (Weekends) is less or equal to 2000 seconds, whereas the average travel trip duration on Weekdays exceeds 2000 seconds, i.e. roughly 33.33 minutes, but it starts to drop from Fridays dusing the weekdays. This might imply that people travel longer distances on weekdays compared to weekends because of the longer duration from the box-plot. Traffic might also be a cause of the longer duration for weekdays. Time taken on Wednesday is greater than rest of the days."
   ]
  },
  {
   "cell_type": "code",
   "execution_count": null,
   "metadata": {},
   "outputs": [],
   "source": []
  },
  {
   "cell_type": "markdown",
   "metadata": {},
   "source": [
    "### line-plot\n",
    "Simple lineplots can explain how the trip duration is changing with time for different days of week."
   ]
  },
  {
   "cell_type": "code",
   "execution_count": 23,
   "metadata": {},
   "outputs": [],
   "source": [
    "# !pip install seaborn==0.9.0\n",
    "# import seaborn as sns"
   ]
  },
  {
   "cell_type": "code",
   "execution_count": 24,
   "metadata": {},
   "outputs": [],
   "source": [
    "# summary_hour_duration = pd.DataFrame(train_data_new.groupby(['day_of_week','hour'])['trip_duration'].mean())\n",
    "# summary_hour_duration.reset_index(inplace = True)\n",
    "# summary_hour_duration['unit']=1\n",
    "# sns.set(style=\"white\", palette=\"muted\", color_codes=False)\n",
    "# sns.set_context(\"poster\")\n",
    "# sns.tsplot(data=summary_hour_duration, time=\"hour\", unit = \"unit\", condition=\"day_of_week\", value=\"trip_duration\")\n",
    "# sns.despine(bottom = False)\n",
    "# plt.legend(bbox_to_anchor=(1.02, 1), loc='right', borderaxespad=0, title = \"day_of_week\")"
   ]
  },
  {
   "cell_type": "markdown",
   "metadata": {},
   "source": [
    "# I started on 1.3 Time based questions #4"
   ]
  },
  {
   "cell_type": "code",
   "execution_count": null,
   "metadata": {},
   "outputs": [],
   "source": []
  }
 ],
 "metadata": {
  "kernelspec": {
   "display_name": "Python 3",
   "language": "python",
   "name": "python3"
  },
  "language_info": {
   "codemirror_mode": {
    "name": "ipython",
    "version": 3
   },
   "file_extension": ".py",
   "mimetype": "text/x-python",
   "name": "python",
   "nbconvert_exporter": "python",
   "pygments_lexer": "ipython3",
   "version": "3.8.8"
  }
 },
 "nbformat": 4,
 "nbformat_minor": 4
}
